{
 "cells": [
  {
   "cell_type": "markdown",
   "metadata": {},
   "source": [
    "## Galaxy Classification Notebook:\n",
    "---"
   ]
  },
  {
   "cell_type": "markdown",
   "metadata": {},
   "source": [
    "just for usability while we develop early features and model."
   ]
  },
  {
   "cell_type": "code",
   "execution_count": 16,
   "metadata": {},
   "outputs": [],
   "source": [
    "# libraries\n",
    "import torch\n",
    "import torch.nn as nn\n",
    "import torch.optim as optim\n",
    "from torch.utils.data import DataLoader\n",
    "from torchvision import transforms\n",
    "from astroNN.datasets import load_galaxy10\n",
    "#from sklearn.model_selection import train_test_split\n",
    "import json\n",
    "\n",
    "# Note, unique dependency: AstroNN\n",
    "\n",
    "import numpy as np\n",
    "from torch.utils.data import Dataset, DataLoader"
   ]
  },
  {
   "cell_type": "code",
   "execution_count": 7,
   "metadata": {},
   "outputs": [
    {
     "name": "stderr",
     "output_type": "stream",
     "text": [
      "Galaxy10_DECals.h5: 100%|█████████▉| 2.73G/2.74G [03:56<00:00, 9.48MB/s]   "
     ]
    },
    {
     "name": "stdout",
     "output_type": "stream",
     "text": [
      "Downloaded Galaxy10 successfully to C:\\Users\\dvirz\\.astroNN\\datasets\\Galaxy10_DECals.h5\n"
     ]
    },
    {
     "name": "stderr",
     "output_type": "stream",
     "text": [
      "Galaxy10_DECals.h5: 2.74GB [03:59, 11.4MB/s]                            \n"
     ]
    }
   ],
   "source": [
    "## Dataset preprocessing:\n",
    "\n",
    "images, labels = load_galaxy10()"
   ]
  },
  {
   "cell_type": "code",
   "execution_count": 18,
   "metadata": {},
   "outputs": [],
   "source": [
    "# Convert images to PyTorch tensor\n",
    "images = images.permute(0, 3, 1, 2).float()  # Change data format to PyTorch (N, H, W, C) to (N, C, H, W)\n",
    "\n",
    "# Use labels as they are (assuming labels are already a PyTorch tensor)\n",
    "labels = labels.long()\n",
    "\n",
    "# Define a custom PyTorch Dataset\n",
    "class GalaxyDataset(Dataset):\n",
    "    def __init__(self, images, labels, transform=None):\n",
    "        self.images = images\n",
    "        self.labels = labels\n",
    "        self.transform = transform\n",
    "\n",
    "    def __len__(self):\n",
    "        return len(self.images)\n",
    "\n",
    "    def __getitem__(self, idx):\n",
    "        image = self.images[idx]\n",
    "        label = self.labels[idx]\n",
    "\n",
    "        if self.transform:\n",
    "            image = self.transform(image)\n",
    "\n",
    "        return image, label\n",
    "\n",
    "# Define a transformation for the dataset\n",
    "transform = transforms.Compose([\n",
    "    transforms.ToTensor(),\n",
    "])\n",
    "\n",
    "# Create a custom PyTorch Dataset\n",
    "galaxy_dataset = GalaxyDataset(images, labels, transform=transform)\n",
    "\n",
    "# Split the dataset into training and testing sets\n",
    "train_size = int(0.8 * len(galaxy_dataset))\n",
    "test_size = len(galaxy_dataset) - train_size\n",
    "train_dataset, test_dataset = torch.utils.data.random_split(galaxy_dataset, [train_size, test_size])\n",
    "\n",
    "# DataLoader\n",
    "batch_size = 32\n",
    "train_loader = DataLoader(train_dataset, batch_size=batch_size, shuffle=True)\n",
    "test_loader = DataLoader(test_dataset, batch_size=batch_size, shuffle=False)\n"
   ]
  },
  {
   "cell_type": "code",
   "execution_count": 26,
   "metadata": {},
   "outputs": [
    {
     "ename": "FileNotFoundError",
     "evalue": "[Errno 2] No such file or directory: 'params.json'",
     "output_type": "error",
     "traceback": [
      "\u001b[1;31m---------------------------------------------------------------------------\u001b[0m",
      "\u001b[1;31mFileNotFoundError\u001b[0m                         Traceback (most recent call last)",
      "\u001b[1;32mZzelper\\galaxy-classifier-cnn\\ntoebook.ipynb Cell 6\u001b[0m line \u001b[0;36m<cell line: 3>\u001b[1;34m()\u001b[0m\n\u001b[0;32m      <a href='vscode-notebook-cell://github%2B7b2276223a312c22726566223a7b2274797065223a342c226964223a22496e697469616c2d6d6f64652d74656d706c617465227d7d/Zzelper/galaxy-classifier-cnn/ntoebook.ipynb#W3sdnNjb2RlLXZmcw%3D%3D?line=0'>1</a>\u001b[0m \u001b[39m# loading hyperparameters\u001b[39;00m\n\u001b[1;32m----> <a href='vscode-notebook-cell://github%2B7b2276223a312c22726566223a7b2274797065223a342c226964223a22496e697469616c2d6d6f64652d74656d706c617465227d7d/Zzelper/galaxy-classifier-cnn/ntoebook.ipynb#W3sdnNjb2RlLXZmcw%3D%3D?line=2'>3</a>\u001b[0m \u001b[39mwith\u001b[39;00m \u001b[39mopen\u001b[39;49m(\u001b[39m'\u001b[39;49m\u001b[39mparams.json\u001b[39;49m\u001b[39m'\u001b[39;49m) \u001b[39mas\u001b[39;00m f:\n\u001b[0;32m      <a href='vscode-notebook-cell://github%2B7b2276223a312c22726566223a7b2274797065223a342c226964223a22496e697469616c2d6d6f64652d74656d706c617465227d7d/Zzelper/galaxy-classifier-cnn/ntoebook.ipynb#W3sdnNjb2RlLXZmcw%3D%3D?line=3'>4</a>\u001b[0m     params \u001b[39m=\u001b[39m json\u001b[39m.\u001b[39mload(f)\n\u001b[0;32m      <a href='vscode-notebook-cell://github%2B7b2276223a312c22726566223a7b2274797065223a342c226964223a22496e697469616c2d6d6f64652d74656d706c617465227d7d/Zzelper/galaxy-classifier-cnn/ntoebook.ipynb#W3sdnNjb2RlLXZmcw%3D%3D?line=5'>6</a>\u001b[0m \u001b[39m# Extract hyperparameters\u001b[39;00m\n",
      "\u001b[1;31mFileNotFoundError\u001b[0m: [Errno 2] No such file or directory: 'params.json'"
     ]
    }
   ],
   "source": [
    "# loading hyperparameters\n",
    "\n",
    "with open('params.json') as f:\n",
    "    params = json.load(f)\n",
    "\n",
    "# Extract hyperparameters\n",
    "num_classes = params[\"num_classes\"]\n",
    "batch_size = params[\"batch_size\"]\n",
    "learning_rate = params[\"learning_rate\"]\n",
    "num_epochs = params[\"num_epochs\"]\n",
    "random_seed = params[\"random_seed\"]\n",
    "\n",
    "# Set random seed for reproducibility\n",
    "torch.manual_seed(random_seed)\n"
   ]
  },
  {
   "cell_type": "code",
   "execution_count": null,
   "metadata": {},
   "outputs": [],
   "source": [
    "# Define the CNN model\n",
    "class GalaxyCNN(nn.Module):\n",
    "    def __init__(self, num_classes=10):\n",
    "        super(GalaxyCNN, self).__init__()\n",
    "\n",
    "        # Feature extraction\n",
    "        self.features = nn.Sequential(\n",
    "            nn.Conv2d(3, 16, kernel_size=3, padding=1),\n",
    "            nn.Tanh(),\n",
    "            nn.MaxPool2d(kernel_size=2, stride=2),\n",
    "        )\n",
    "\n",
    "        # Classification\n",
    "        self.classification = nn.Sequential(\n",
    "            nn.Linear(16 * 128 * 128, 256),\n",
    "            nn.Tanh(),\n",
    "            nn.Linear(256, num_classes),\n",
    "            nn.Softmax(dim=1),\n",
    "        )\n",
    "\n",
    "    def forward(self, x):\n",
    "        x = self.features(x)\n",
    "        x = x.view(x.size(0), -1)\n",
    "        x = self.classification(x)\n",
    "        return x"
   ]
  },
  {
   "cell_type": "code",
   "execution_count": null,
   "metadata": {},
   "outputs": [],
   "source": [
    "# Load the Galaxy10 dataset\n",
    "transform = transforms.Compose([\n",
    "    transforms.ToTensor(),\n",
    "])\n",
    "\n",
    "galaxy_dataset = Galaxy10(transform=transform)\n",
    "train_size = int(0.8 * len(galaxy_dataset))\n",
    "test_size = len(galaxy_dataset) - train_size\n",
    "train_dataset, test_dataset = torch.utils.data.random_split(galaxy_dataset, [train_size, test_size])\n",
    "\n",
    "# DataLoader\n",
    "train_loader = DataLoader(train_dataset, batch_size=32, shuffle=True)\n",
    "test_loader = DataLoader(test_dataset, batch_size=32, shuffle=False)"
   ]
  },
  {
   "cell_type": "code",
   "execution_count": null,
   "metadata": {},
   "outputs": [],
   "source": [
    "# Intastantiate and train the model\n",
    "\n",
    "\n",
    "# Instantiate the model\n",
    "model = GalaxyCNN(num_classes=num_classes)\n",
    "\n",
    "# Define loss function and optimizer\n",
    "criterion = nn.CrossEntropyLoss()\n",
    "optimizer = optim.Adam(model.parameters(), lr=learning_rate)\n",
    "\n",
    "# Training the model\n",
    "num_epochs = 10\n",
    "for epoch in range(num_epochs):\n",
    "    model.train()\n",
    "    running_loss = 0.0\n",
    "\n",
    "    for images, labels in train_loader:\n",
    "        optimizer.zero_grad()\n",
    "        outputs = model(images)\n",
    "        loss = criterion(outputs, labels)\n",
    "        loss.backward()\n",
    "        optimizer.step()\n",
    "\n",
    "        running_loss += loss.item()\n",
    "\n",
    "    print(f'Epoch {epoch + 1}/{num_epochs}, Loss: {running_loss / len(train_loader)}')\n",
    "\n",
    "# Evaluate the model\n",
    "model.eval()\n",
    "correct = 0\n",
    "total = 0\n",
    "\n",
    "with torch.no_grad():\n",
    "    for images, labels in test_loader:\n",
    "        outputs = model(images)\n",
    "        _, predicted = torch.max(outputs.data, 1)\n",
    "        total += labels.size(0)\n",
    "        correct += (predicted == labels).sum().item()\n",
    "\n",
    "accuracy = correct / total\n",
    "print(f'Test Accuracy: {100 * accuracy:.2f}%')\n"
   ]
  }
 ],
 "metadata": {
  "kernelspec": {
   "display_name": "Python 3",
   "language": "python",
   "name": "python3"
  },
  "language_info": {
   "codemirror_mode": {
    "name": "ipython",
    "version": 3
   },
   "file_extension": ".py",
   "mimetype": "text/x-python",
   "name": "python",
   "nbconvert_exporter": "python",
   "pygments_lexer": "ipython3",
   "version": "3.10.4"
  }
 },
 "nbformat": 4,
 "nbformat_minor": 2
}
